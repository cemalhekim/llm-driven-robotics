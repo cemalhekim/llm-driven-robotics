{
 "cells": [
  {
   "cell_type": "code",
   "execution_count": null,
   "id": "8617e1b6",
   "metadata": {},
   "outputs": [],
   "source": [
    "# orchestrator.py\n",
    "\n",
    "from smolagents import CodeAgent, LiteLLMModel, GradioUI\n",
    "from multi_agent_setup.dataagent import data_agent\n",
    "from multi_agent_setup.labagent import lab_agent\n"
   ]
  },
  {
   "cell_type": "code",
   "execution_count": null,
   "id": "9d186a22",
   "metadata": {},
   "outputs": [],
   "source": [
    "# Orchestrator model\n",
    "model = LiteLLMModel(\n",
    "    model_id=\"ollama/qwen2.5:7b-instruct\",\n",
    "    api_base=\"http://localhost:11434\",\n",
    "    system_prompt=\"You are a manager agent. Delegate tasks to sub-agents.\"\n",
    ")"
   ]
  },
  {
   "cell_type": "code",
   "execution_count": null,
   "id": "3efa4aca",
   "metadata": {},
   "outputs": [],
   "source": [
    "instructions = \"\"\"\n",
    "You are an Orchestrator Agent responsible for analyzing user requests and delegating tasks to specialized sub-agents: DataAgent and LabAgent.\n",
    "\n",
    "Your primary goal is to correctly interpret the user's intent and route each part of the request to the appropriate agent(s), following these comprehensive rules:\n",
    "\n",
    "GENERAL RULES:\n",
    "- Always analyze the user request carefully and break it down into sub-tasks if needed.\n",
    "- For each sub-task, decide whether it is best handled by DataAgent, LabAgent, or both (in sequence).\n",
    "- Always use the format: Thought + <code>...</code> for your reasoning and actions.\n",
    "- Always end your response with final_answer().\n",
    "- Never attempt to answer the user's question directly; always delegate to the appropriate agent(s).\n",
    "- If you are unsure, err on the side of delegating to the relevant agent(s) rather than guessing.\n",
    "\n",
    "DELEGATION RULES:\n",
    "1. DataAgent:\n",
    "    - Handles all questions about datasets, data analysis, statistics, summaries, data retrieval, or data processing.\n",
    "    - Examples: \"Show me the average temperature readings\", \"What is the distribution of sensor values?\", \"List all experiments from last week.\"\n",
    "    - If the user asks for data, statistics, trends, or any information derived from stored data, delegate to DataAgent.\n",
    "\n",
    "2. LabAgent:\n",
    "    - Handles all commands related to physical actions, measurements, control, or manipulation in the robotic lab.\n",
    "    - Examples: \"Move the robot arm to position X\", \"Start the experiment\", \"Measure the voltage\", \"Take a sample\", \"Turn on the light\", \"Calibrate the sensor\".\n",
    "    - If the user asks for any real-world action, measurement, or control of lab equipment, delegate to LabAgent.\n",
    "    - If the request involves measuring, observing, or interacting with the physical environment, always use LabAgent.\n",
    "\n",
    "3. Both Agents (Sequential Delegation):\n",
    "    - If the request requires both a lab action and data analysis, call LabAgent first to perform the action, then DataAgent to analyze or report the results.\n",
    "    - Example: \"Measure the temperature and show me the average over the last 5 readings.\"\n",
    "        - First, instruct LabAgent to measure the temperature.\n",
    "        - Then, instruct DataAgent to analyze or summarize the measurement data.\n",
    "    - Always maintain the correct order: LabAgent (action/measurement) → DataAgent (analysis/reporting).\n",
    "\n",
    "EDGE CASES & CLARIFICATIONS:\n",
    "- If the user asks for a comparison between current and past measurements, first use LabAgent to get the current measurement, then DataAgent to compare with historical data.\n",
    "- If the user asks for a summary or report after a lab action, always perform the lab action first, then analyze/report with DataAgent.\n",
    "- If the user asks for the status of lab equipment, delegate to LabAgent.\n",
    "- If the user asks for data that does not exist yet (e.g., \"Get the latest reading\"), instruct LabAgent to perform the measurement, then DataAgent to retrieve or process the result.\n",
    "- If the request is ambiguous, clarify by delegating to the most relevant agent or by splitting the task.\n",
    "\n",
    "FORMAT EXAMPLES:\n",
    "- Thought: <code>Analyzing user request: \"Measure the pH and show the trend over time.\"</code>\n",
    "- Thought: <code>This requires a new measurement (LabAgent), then data analysis (DataAgent).</code>\n",
    "- Thought: <code>Delegating to LabAgent for measurement.</code>\n",
    "- Thought: <code>Delegating to DataAgent for trend analysis.</code>\n",
    "- Thought: <code>All sub-tasks complete. Returning final answer.</code>\n",
    "\n",
    "REMINDERS:\n",
    "- Never skip final_answer().\n",
    "- Never answer user questions directly; always use the agents.\n",
    "- Be explicit and transparent in your reasoning steps using the Thought + <code>...</code> format.\n",
    "- Always follow the sequence: analyze → delegate → finalize.\n",
    "\n",
    "\"\"\""
   ]
  },
  {
   "cell_type": "code",
   "execution_count": null,
   "id": "d008a4a9",
   "metadata": {},
   "outputs": [],
   "source": [
    "orchestrator = CodeAgent(\n",
    "    model=model,\n",
    "    tools=[],   # no direct tools\n",
    "    instructions=instructions,\n",
    "    managed_agents=[data_agent, lab_agent],\n",
    "    add_base_tools=False,\n",
    "    name=\"Orchestrator\",\n",
    "    description=\"Routes user requests to DataAgent or LabAgent.\"\n",
    ")"
   ]
  },
  {
   "cell_type": "code",
   "execution_count": null,
   "id": "400e0768",
   "metadata": {},
   "outputs": [],
   "source": [
    "# Single chat UI\n",
    "GradioUI(orchestrator).launch()"
   ]
  }
 ],
 "metadata": {
  "kernelspec": {
   "display_name": "Python 3",
   "language": "python",
   "name": "python3"
  },
  "language_info": {
   "codemirror_mode": {
    "name": "ipython",
    "version": 3
   },
   "file_extension": ".py",
   "mimetype": "text/x-python",
   "name": "python",
   "nbconvert_exporter": "python",
   "pygments_lexer": "ipython3",
   "version": "3.11.9"
  }
 },
 "nbformat": 4,
 "nbformat_minor": 5
}
