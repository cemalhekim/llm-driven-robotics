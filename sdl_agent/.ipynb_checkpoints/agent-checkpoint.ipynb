{
 "cells": [
  {
   "cell_type": "code",
   "execution_count": null,
   "id": "bb53c67d",
   "metadata": {
    "vscode": {
     "languageId": "plaintext"
    }
   },
   "outputs": [],
   "source": [
    "from smolagents import CodeAgent, LiteLLMModel, tool\n",
    "import csv"
   ]
  },
  {
   "cell_type": "code",
   "execution_count": null,
   "id": "a204aba1",
   "metadata": {
    "vscode": {
     "languageId": "plaintext"
    }
   },
   "outputs": [],
   "source": [
    "model = LiteLLMModel(\n",
    "    model_id=\"ollama/qwen2.5-coder:7b\",\n",
    "    api_base=\"http://localhost:11434\",\n",
    "    system_prompt=\"You are a terse Python coding assistant. Use tools precisely.\"\n",
    ")"
   ]
  }
 ],
 "metadata": {
  "language_info": {
   "name": "python"
  }
 },
 "nbformat": 4,
 "nbformat_minor": 5
}
