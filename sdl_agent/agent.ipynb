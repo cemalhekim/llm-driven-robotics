{
 "cells": [
  {
   "cell_type": "code",
   "execution_count": 8,
   "id": "bb53c67d",
   "metadata": {
    "vscode": {
     "languageId": "plaintext"
    }
   },
   "outputs": [],
   "source": [
    "from smolagents import CodeAgent, LiteLLMModel, tool\n",
    "import csv, statistics\n",
    "from typing import List, Dict, Any"
   ]
  },
  {
   "cell_type": "code",
   "execution_count": 9,
   "id": "a204aba1",
   "metadata": {
    "vscode": {
     "languageId": "plaintext"
    }
   },
   "outputs": [],
   "source": [
    "model = LiteLLMModel(\n",
    "    model_id=\"ollama/qwen2.5-coder:7b\",\n",
    "    api_base=\"http://localhost:11434\",\n",
    "    system_prompt=\"You are a terse Python coding assistant. Use tools precisely.\"\n",
    ")"
   ]
  },
  {
   "cell_type": "code",
   "execution_count": 10,
   "id": "9edbdbb4-3aba-4b56-a104-d396ccdaf5e8",
   "metadata": {},
   "outputs": [],
   "source": [
    "@tool\n",
    "def csv_feature_query(\n",
    "    path: str,\n",
    "    feature: str,\n",
    "    mode: str = \"stats\",\n",
    "    k: int = 1,\n",
    "    sample: int = None,\n",
    "    step_filter: str = \"measurement\"\n",
    ") -> dict:\n",
    "    \"\"\"\n",
    "    Query OCP/CA/CV measurements from a CSV log.\n",
    "\n",
    "    Args:\n",
    "        path (str): Full path to the CSV file.\n",
    "        feature (str): One of 'OCP', 'CA', 'CV' (case-insensitive).\n",
    "        mode (str): One of:\n",
    "            - 'stats'  -> count, min, max, mean, median\n",
    "            - 'top'    -> top-k by value (desc)\n",
    "            - 'bottom' -> bottom-k by value (asc)\n",
    "            - 'median' -> median value only\n",
    "            - 'value'  -> value for a given sample (requires `sample`)\n",
    "        k (int): How many rows to return for 'top'/'bottom'. Default 1.\n",
    "        sample (int): Sample id for 'value' mode.\n",
    "        step_filter (str): Only consider rows where step==this (e.g., 'measurement').\n",
    "\n",
    "    Returns:\n",
    "        dict: Structured result depending on mode.\n",
    "    \"\"\"\n",
    "    feat = feature.strip().upper()\n",
    "\n",
    "    # Load rows\n",
    "    rows: List[Dict[str, Any]] = []\n",
    "    with open(path, newline=\"\", encoding=\"utf-8\") as f:\n",
    "        rdr = csv.DictReader(f)\n",
    "        for r in rdr:\n",
    "            if step_filter and r.get(\"step\") != step_filter:\n",
    "                continue\n",
    "            rows.append(r)\n",
    "\n",
    "    if not rows:\n",
    "        return {\"error\": \"No rows matched step_filter.\", \"count\": 0}\n",
    "\n",
    "    # Detect wide vs long schema\n",
    "    wide_map = {\"OCP\": \"value_ocp\", \"CA\": \"value_ca\", \"CV\": \"value_cv\"}\n",
    "    long_value_col = \"value\" if \"value\" in rows[0] and \"feature\" in rows[0] else None\n",
    "\n",
    "    if feat not in {\"OCP\",\"CA\",\"CV\"}:\n",
    "        raise ValueError(\"feature must be OCP, CA, or CV\")\n",
    "\n",
    "    # Extract (sample, value) pairs\n",
    "    vals: List[Dict[str, Any]] = []\n",
    "    for r in rows:\n",
    "        try:\n",
    "            if long_value_col:\n",
    "                if (r.get(\"feature\") or \"\").upper() != feat:\n",
    "                    continue\n",
    "                v_raw = r.get(long_value_col)\n",
    "            else:\n",
    "                v_raw = r.get(wide_map[feat])\n",
    "            if v_raw is None or v_raw == \"\":\n",
    "                continue\n",
    "            v = float(v_raw)\n",
    "            sid = r.get(\"sample\")\n",
    "            sid = int(sid) if sid not in (None, \"\",) else None\n",
    "            vals.append({\"sample\": sid, \"value\": v, \"row\": r})\n",
    "        except (ValueError, TypeError):\n",
    "            continue\n",
    "\n",
    "    if not vals:\n",
    "        return {\"feature\": feat, \"count\": 0, \"message\": \"No numeric values.\"}\n",
    "\n",
    "    # Helpers\n",
    "    values_only = [x[\"value\"] for x in vals]\n",
    "    def topk(n):  return sorted(vals, key=lambda d: d[\"value\"], reverse=True)[:max(0,n)]\n",
    "    def botk(n):  return sorted(vals, key=lambda d: d[\"value\"])[:max(0,n)]\n",
    "\n",
    "    # Modes\n",
    "    if mode == \"stats\":\n",
    "        return {\n",
    "            \"feature\": feat,\n",
    "            \"count\": len(values_only),\n",
    "            \"min\": min(values_only),\n",
    "            \"max\": max(values_only),\n",
    "            \"mean\": sum(values_only)/len(values_only),\n",
    "            \"median\": statistics.median(values_only),\n",
    "        }\n",
    "\n",
    "    if mode == \"top\":\n",
    "        out = [{\"sample\": d[\"sample\"], \"value\": d[\"value\"]} for d in topk(k)]\n",
    "        return {\"feature\": feat, \"k\": k, \"results\": out}\n",
    "\n",
    "    if mode == \"bottom\":\n",
    "        out = [{\"sample\": d[\"sample\"], \"value\": d[\"value\"]} for d in botk(k)]\n",
    "        return {\"feature\": feat, \"k\": k, \"results\": out}\n",
    "\n",
    "    if mode == \"median\":\n",
    "        return {\"feature\": feat, \"median\": statistics.median(values_only)}\n",
    "\n",
    "    if mode == \"value\":\n",
    "        if sample is None:\n",
    "            raise ValueError(\"`sample` is required for mode='value'.\")\n",
    "        match = [d for d in vals if d[\"sample\"] == int(sample)]\n",
    "        if not match:\n",
    "            return {\"feature\": feat, \"sample\": sample, \"found\": False}\n",
    "        # If multiple, return the last\n",
    "        d = match[-1]\n",
    "        return {\"feature\": feat, \"sample\": sample, \"value\": d[\"value\"], \"found\": True}\n",
    "\n",
    "    raise ValueError(\"Invalid mode. Use 'stats'|'top'|'bottom'|'median'|'value'.\")\n"
   ]
  },
  {
   "cell_type": "code",
   "execution_count": 11,
   "id": "173ec20e-4f5c-4224-9839-fe6eaccf38e7",
   "metadata": {},
   "outputs": [],
   "source": [
    "\n",
    "agent = CodeAgent(\n",
    "    model=model,\n",
    "    tools=[csv_feature_stats],\n",
    "    add_base_tools=False,\n",
    ")"
   ]
  },
  {
   "cell_type": "code",
   "execution_count": 16,
   "id": "cbe4ae23-5ca8-476c-85c8-16dd4db87552",
   "metadata": {},
   "outputs": [
    {
     "ename": "SyntaxError",
     "evalue": "(unicode error) 'unicodeescape' codec can't decode bytes in position 2-3: truncated \\UXXXXXXXX escape (1957205916.py, line 1)",
     "output_type": "error",
     "traceback": [
      "\u001b[1;36m  Cell \u001b[1;32mIn[16], line 1\u001b[1;36m\u001b[0m\n\u001b[1;33m    path = \"C:\\Users\\chekim\\Workspace\\llm-driven-robotics\\experiment_logs\\20250924104104.csv\"\u001b[0m\n\u001b[1;37m                                                                                             ^\u001b[0m\n\u001b[1;31mSyntaxError\u001b[0m\u001b[1;31m:\u001b[0m (unicode error) 'unicodeescape' codec can't decode bytes in position 2-3: truncated \\UXXXXXXXX escape\n"
     ]
    }
   ],
   "source": [
    "path = \"C:\\Users\\chekim\\Workspace\\llm-driven-robotics\\experiment_logs\\20250924104104.csv\""
   ]
  },
  {
   "cell_type": "code",
   "execution_count": null,
   "id": "990316d3-13d2-472f-8bf3-4a391d1eba90",
   "metadata": {},
   "outputs": [],
   "source": [
    "response = agent.run(\n",
    "    r\"Call csv_feature_query with the given path, feature=OCP, mode=top, k=2\"\n",
    ")\n",
    "print(response)"
   ]
  }
 ],
 "metadata": {
  "kernelspec": {
   "display_name": "Python 3 (ipykernel)",
   "language": "python",
   "name": "python3"
  },
  "language_info": {
   "codemirror_mode": {
    "name": "ipython",
    "version": 3
   },
   "file_extension": ".py",
   "mimetype": "text/x-python",
   "name": "python",
   "nbconvert_exporter": "python",
   "pygments_lexer": "ipython3",
   "version": "3.10.14"
  }
 },
 "nbformat": 4,
 "nbformat_minor": 5
}
