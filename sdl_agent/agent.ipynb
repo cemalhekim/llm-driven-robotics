{
 "cells": [
  {
   "cell_type": "code",
   "execution_count": 46,
   "id": "bb53c67d",
   "metadata": {},
   "outputs": [],
   "source": [
    "from smolagents import CodeAgent, LiteLLMModel, GradioUI, tool\n",
    "import duckdb"
   ]
  },
  {
   "cell_type": "code",
   "execution_count": null,
   "id": "60cf8a49",
   "metadata": {},
   "outputs": [],
   "source": [
    "@tool\n",
    "def query_duckdb(sql: str) -> list:\n",
    "    \"\"\"\n",
    "    Run an SQL query on the dataset stored in test.csv using DuckDB.\n",
    "\n",
    "    Args:\n",
    "        sql (str): A valid SQL query string to execute on the table `data`.\n",
    "\n",
    "    Returns:\n",
    "        list: Query results as a list of tuples.\n",
    "    \"\"\"\n",
    "    file = r\"C:\\Users\\chekim\\Workspace\\llm_robotic_control\\experiment_logs\\test.csv\"\n",
    "    con = duckdb.connect()\n",
    "    con.execute(f\"\"\"\n",
    "        CREATE OR REPLACE TABLE data AS\n",
    "        SELECT * FROM read_csv_auto(\n",
    "            '{file}',\n",
    "            columns={{\n",
    "                'ts': 'TEXT',\n",
    "                'feature': 'TEXT',\n",
    "                'sample': 'INTEGER',\n",
    "                'value': 'DOUBLE',\n",
    "                't_start': 'DOUBLE',\n",
    "                't_end': 'DOUBLE',\n",
    "                'duration_s': 'DOUBLE'\n",
    "            }},\n",
    "            ignore_errors=true\n",
    "        )\n",
    "        WHERE ts IS NOT NULL\n",
    "    \"\"\")\n",
    "    return con.execute(sql).fetchall()"
   ]
  },
  {
   "cell_type": "code",
   "execution_count": 48,
   "id": "a204aba1",
   "metadata": {},
   "outputs": [],
   "source": [
    "model = LiteLLMModel(\n",
    "    model_id=\"ollama/qwen2.5:7b-instruct\",\n",
    "    api_base=\"http://localhost:11434\",\n",
    "    system_prompt=\"You are a terse Python coding assistant. Use tools precisely.\"\n",
    ")"
   ]
  },
  {
   "cell_type": "code",
   "execution_count": 49,
   "id": "b2f999d5",
   "metadata": {},
   "outputs": [],
   "source": [
    "prompt = \"\"\"\n",
    "You are a data analyst.  \n",
    "Your job is to answer ONLY the exact question asked by the user about the given dataset.  \n",
    "Never explain your reasoning. Never generate anything beyond the requested result.  \n",
    "\n",
    "CONTEXT:  \n",
    "- You can only interact with the dataset through the tool: `query_duckdb(sql)`.  \n",
    "- This tool automatically loads the CSV into a DuckDB table named `data` every time it is called.  \n",
    "- You do NOT have direct access to any DuckDB connection or variables.  \n",
    "- Dataset schema (fixed):  \n",
    "  ts (TEXT), feature (TEXT), sample (INTEGER), value (REAL),  \n",
    "  t_start (REAL), t_end (REAL), duration_s (REAL).  \n",
    "- Example row:  \n",
    "  2025.09.24.10.41.29,OCP,2,0.052355263231294025,1758703264.6880891,1758703289.1591778,24.471088647842407  \n",
    "\n",
    "STRICT RULES:  \n",
    "1. You must ONLY answer by calling `query_duckdb(\"<SQL>\")`.  \n",
    "2. Never try to import duckdb, pandas, or access variables like `con` or `data`.  \n",
    "3. Always query the table named `data`.  \n",
    "4. Always filter features with conditions like `feature='OCP'`, `feature='CA'`, `feature='CV'`.  \n",
    "5. Always use the `value` column for numeric operations.  \n",
    "6. For single answers (count, max, min, avg, specific sample), use `fetchone()[0]`.  \n",
    "7. For lists of rows, use `fetchall()`.  \n",
    "8. Return only the raw result (int, float, string, or list of tuples). No explanations, no extra text.  \n",
    "9. If a query is impossible, return exactly `\"ERROR: invalid query\"`.  \n",
    "10. Always alias aggregates clearly, e.g. `SELECT MAX(value) AS max_val`. \n",
    "\n",
    "FORMAT RULES:\n",
    "- Every answer must have exactly one \"Thought:\" line.\n",
    "- Then a <code>...</code> block with valid Python code.\n",
    "- The Python code must end with a call to final_answer(...).\n",
    "- Never print, never narrate, never wrap in ```python. Only use <code> and </code>.\n",
    "- Never answer in plain text, always produce code with final_answer().\n",
    "\n",
    "FEW-SHOT EXAMPLES:\n",
    "\n",
    "Q: How many rows are in the CSV file?\n",
    "A:\n",
    "Thought: I need to count all rows in the table\n",
    "<code>\n",
    "result = query_duckdb(\"SELECT COUNT(*) FROM data\")\n",
    "final_answer(result[0][0])\n",
    "</code>\n",
    "\n",
    "Q: What is the OCP value of sample 3?\n",
    "A:\n",
    "Thought: I need the value where feature='OCP' and sample=3\n",
    "<code>\n",
    "result = query_duckdb(\"SELECT value FROM data WHERE feature='OCP' AND sample=3\")\n",
    "final_answer(result[0][0])\n",
    "</code>\n",
    "\n",
    "Q: What is the maximum CA value for all measurements?\n",
    "A:\n",
    "Thought: I need the maximum value where feature='CA'\n",
    "<code>\n",
    "result = query_duckdb(\"SELECT MAX(value) FROM data WHERE feature='CA'\")\n",
    "final_answer(result[0][0])\n",
    "</code>\n",
    "\n",
    "Q: Which sample has the biggest OCP value?\n",
    "A:\n",
    "Thought: I need the sample with the highest OCP value\n",
    "<code>\n",
    "result = query_duckdb(\"SELECT sample FROM data WHERE feature='OCP' ORDER BY value DESC LIMIT 1\")\n",
    "final_answer(result[0][0])\n",
    "</code>\n",
    "\n",
    "Q: Which sample has the minimum OCP value?\n",
    "A:\n",
    "Thought: I need the sample with the lowest OCP value\n",
    "<code>\n",
    "result = query_duckdb(\"SELECT sample FROM data WHERE feature='OCP' ORDER BY value ASC LIMIT 1\")\n",
    "final_answer(result[0][0])\n",
    "</code>\n",
    "\n",
    "Q: What are the 2 samples with the highest OCP values?\n",
    "A:\n",
    "Thought: I need the top 2 samples with the highest OCP values\n",
    "<code>\n",
    "result = query_duckdb(\"SELECT sample FROM data WHERE feature='OCP' ORDER BY value DESC LIMIT 2\")\n",
    "final_answer(result)\n",
    "</code>\n",
    "\n",
    "Q: Tell me the samples with the maximum and minimum CA values.\n",
    "A:\n",
    "Thought: I need both max and min CA sample+value\n",
    "<code>\n",
    "result = query_duckdb(\"SELECT sample, value FROM data WHERE feature='CA' AND (value=(SELECT MAX(value) FROM data WHERE feature='CA') OR value=(SELECT MIN(value) FROM data WHERE feature='CA'))\")\n",
    "final_answer(result)\n",
    "</code>\n",
    "\n",
    "Q: List me all of the OCP values for every sample.\n",
    "A:\n",
    "Thought: I need all (sample, value) pairs where feature='OCP'\n",
    "<code>\n",
    "result = query_duckdb(\"SELECT sample, value FROM data WHERE feature='OCP' ORDER BY sample\")\n",
    "final_answer(result)\n",
    "</code>\n",
    "\n",
    "Q: Which sample has both the highest and lowest duration_s?\n",
    "A:\n",
    "Thought: I need the samples with max and min duration_s\n",
    "<code>\n",
    "result = query_duckdb(\"SELECT sample, duration_s FROM data WHERE duration_s=(SELECT MAX(duration_s) FROM data) OR duration_s=(SELECT MIN(duration_s) FROM data)\")\n",
    "final_answer(result)\n",
    "</code>\n",
    "\n",
    "\"\"\"\n"
   ]
  },
  {
   "cell_type": "code",
   "execution_count": 50,
   "id": "173ec20e-4f5c-4224-9839-fe6eaccf38e7",
   "metadata": {},
   "outputs": [],
   "source": [
    "agent = CodeAgent(\n",
    "    model=model,\n",
    "    tools=[query_duckdb],   # 👈 only this tool allowed\n",
    "    instructions=prompt,\n",
    "    add_base_tools=False\n",
    ")"
   ]
  },
  {
   "cell_type": "code",
   "execution_count": 51,
   "id": "ed3eba54",
   "metadata": {},
   "outputs": [
    {
     "name": "stdout",
     "output_type": "stream",
     "text": [
      "* Running on local URL:  http://127.0.0.1:7860\n",
      "\n",
      "Could not create share link. Please check your internet connection or our status page: https://status.gradio.app.\n"
     ]
    },
    {
     "name": "stderr",
     "output_type": "stream",
     "text": [
      "2025/09/30 16:54:46 [W] [service.go:132] login to server failed: dial tcp 44.237.78.176:7000: i/o timeout\n"
     ]
    },
    {
     "data": {
      "text/html": [
       "<div><iframe src=\"http://127.0.0.1:7860/\" width=\"100%\" height=\"500\" allow=\"autoplay; camera; microphone; clipboard-read; clipboard-write;\" frameborder=\"0\" allowfullscreen></iframe></div>"
      ],
      "text/plain": [
       "<IPython.core.display.HTML object>"
      ]
     },
     "metadata": {},
     "output_type": "display_data"
    },
    {
     "data": {
      "text/html": [
       "<pre style=\"white-space:pre;overflow-x:auto;line-height:normal;font-family:Menlo,'DejaVu Sans Mono',consolas,'Courier New',monospace\"><span style=\"color: #d4b702; text-decoration-color: #d4b702\">╭──────────────────────────────────────────────────── </span><span style=\"color: #d4b702; text-decoration-color: #d4b702; font-weight: bold\">New run</span><span style=\"color: #d4b702; text-decoration-color: #d4b702\"> ────────────────────────────────────────────────────╮</span>\n",
       "<span style=\"color: #d4b702; text-decoration-color: #d4b702\">│</span>                                                                                                                 <span style=\"color: #d4b702; text-decoration-color: #d4b702\">│</span>\n",
       "<span style=\"color: #d4b702; text-decoration-color: #d4b702\">│</span> <span style=\"font-weight: bold\">what is the ocp value of sample 3</span>                                                                               <span style=\"color: #d4b702; text-decoration-color: #d4b702\">│</span>\n",
       "<span style=\"color: #d4b702; text-decoration-color: #d4b702\">│</span>                                                                                                                 <span style=\"color: #d4b702; text-decoration-color: #d4b702\">│</span>\n",
       "<span style=\"color: #d4b702; text-decoration-color: #d4b702\">╰─ LiteLLMModel - ollama/qwen2.5:7b-instruct ─────────────────────────────────────────────────────────────────────╯</span>\n",
       "</pre>\n"
      ],
      "text/plain": [
       "\u001b[38;2;212;183;2m╭─\u001b[0m\u001b[38;2;212;183;2m───────────────────────────────────────────────────\u001b[0m\u001b[38;2;212;183;2m \u001b[0m\u001b[1;38;2;212;183;2mNew run\u001b[0m\u001b[38;2;212;183;2m \u001b[0m\u001b[38;2;212;183;2m───────────────────────────────────────────────────\u001b[0m\u001b[38;2;212;183;2m─╮\u001b[0m\n",
       "\u001b[38;2;212;183;2m│\u001b[0m                                                                                                                 \u001b[38;2;212;183;2m│\u001b[0m\n",
       "\u001b[38;2;212;183;2m│\u001b[0m \u001b[1mwhat is the ocp value of sample 3\u001b[0m                                                                               \u001b[38;2;212;183;2m│\u001b[0m\n",
       "\u001b[38;2;212;183;2m│\u001b[0m                                                                                                                 \u001b[38;2;212;183;2m│\u001b[0m\n",
       "\u001b[38;2;212;183;2m╰─\u001b[0m\u001b[38;2;212;183;2m LiteLLMModel - ollama/qwen2.5:7b-instruct \u001b[0m\u001b[38;2;212;183;2m────────────────────────────────────────────────────────────────────\u001b[0m\u001b[38;2;212;183;2m─╯\u001b[0m\n"
      ]
     },
     "metadata": {},
     "output_type": "display_data"
    },
    {
     "data": {
      "text/html": [
       "<pre style=\"white-space:pre;overflow-x:auto;line-height:normal;font-family:Menlo,'DejaVu Sans Mono',consolas,'Courier New',monospace\"><span style=\"color: #d4b702; text-decoration-color: #d4b702\">━━━━━━━━━━━━━━━━━━━━━━━━━━━━━━━━━━━━━━━━━━━━━━━━━━━━━ </span><span style=\"font-weight: bold\">Step 1</span><span style=\"color: #d4b702; text-decoration-color: #d4b702\"> ━━━━━━━━━━━━━━━━━━━━━━━━━━━━━━━━━━━━━━━━━━━━━━━━━━━━━━</span>\n",
       "</pre>\n"
      ],
      "text/plain": [
       "\u001b[38;2;212;183;2m━━━━━━━━━━━━━━━━━━━━━━━━━━━━━━━━━━━━━━━━━━━━━━━━━━━━━ \u001b[0m\u001b[1mStep 1\u001b[0m\u001b[38;2;212;183;2m ━━━━━━━━━━━━━━━━━━━━━━━━━━━━━━━━━━━━━━━━━━━━━━━━━━━━━━\u001b[0m\n"
      ]
     },
     "metadata": {},
     "output_type": "display_data"
    },
    {
     "data": {
      "text/html": [
       "<pre style=\"white-space:pre;overflow-x:auto;line-height:normal;font-family:Menlo,'DejaVu Sans Mono',consolas,'Courier New',monospace\"> ─ <span style=\"font-weight: bold\">Executing parsed code:</span> ──────────────────────────────────────────────────────────────────────────────────────── \n",
       "  <span style=\"color: #f8f8f2; text-decoration-color: #f8f8f2; background-color: #272822\">result </span><span style=\"color: #ff4689; text-decoration-color: #ff4689; background-color: #272822\">=</span><span style=\"color: #f8f8f2; text-decoration-color: #f8f8f2; background-color: #272822\"> query_duckdb(</span><span style=\"color: #e6db74; text-decoration-color: #e6db74; background-color: #272822\">\"SELECT value FROM data WHERE feature='OCP' AND sample=3\"</span><span style=\"color: #f8f8f2; text-decoration-color: #f8f8f2; background-color: #272822\">)</span><span style=\"background-color: #272822\">                               </span>  \n",
       "  <span style=\"color: #f8f8f2; text-decoration-color: #f8f8f2; background-color: #272822\">final_answer(result[</span><span style=\"color: #ae81ff; text-decoration-color: #ae81ff; background-color: #272822\">0</span><span style=\"color: #f8f8f2; text-decoration-color: #f8f8f2; background-color: #272822\">][</span><span style=\"color: #ae81ff; text-decoration-color: #ae81ff; background-color: #272822\">0</span><span style=\"color: #f8f8f2; text-decoration-color: #f8f8f2; background-color: #272822\">])</span><span style=\"background-color: #272822\">                                                                                     </span>  \n",
       " ───────────────────────────────────────────────────────────────────────────────────────────────────────────────── \n",
       "</pre>\n"
      ],
      "text/plain": [
       " ─ \u001b[1mExecuting parsed code:\u001b[0m ──────────────────────────────────────────────────────────────────────────────────────── \n",
       "  \u001b[38;2;248;248;242;48;2;39;40;34mresult\u001b[0m\u001b[38;2;248;248;242;48;2;39;40;34m \u001b[0m\u001b[38;2;255;70;137;48;2;39;40;34m=\u001b[0m\u001b[38;2;248;248;242;48;2;39;40;34m \u001b[0m\u001b[38;2;248;248;242;48;2;39;40;34mquery_duckdb\u001b[0m\u001b[38;2;248;248;242;48;2;39;40;34m(\u001b[0m\u001b[38;2;230;219;116;48;2;39;40;34m\"\u001b[0m\u001b[38;2;230;219;116;48;2;39;40;34mSELECT value FROM data WHERE feature=\u001b[0m\u001b[38;2;230;219;116;48;2;39;40;34m'\u001b[0m\u001b[38;2;230;219;116;48;2;39;40;34mOCP\u001b[0m\u001b[38;2;230;219;116;48;2;39;40;34m'\u001b[0m\u001b[38;2;230;219;116;48;2;39;40;34m AND sample=3\u001b[0m\u001b[38;2;230;219;116;48;2;39;40;34m\"\u001b[0m\u001b[38;2;248;248;242;48;2;39;40;34m)\u001b[0m\u001b[48;2;39;40;34m                               \u001b[0m  \n",
       "  \u001b[38;2;248;248;242;48;2;39;40;34mfinal_answer\u001b[0m\u001b[38;2;248;248;242;48;2;39;40;34m(\u001b[0m\u001b[38;2;248;248;242;48;2;39;40;34mresult\u001b[0m\u001b[38;2;248;248;242;48;2;39;40;34m[\u001b[0m\u001b[38;2;174;129;255;48;2;39;40;34m0\u001b[0m\u001b[38;2;248;248;242;48;2;39;40;34m]\u001b[0m\u001b[38;2;248;248;242;48;2;39;40;34m[\u001b[0m\u001b[38;2;174;129;255;48;2;39;40;34m0\u001b[0m\u001b[38;2;248;248;242;48;2;39;40;34m]\u001b[0m\u001b[38;2;248;248;242;48;2;39;40;34m)\u001b[0m\u001b[48;2;39;40;34m                                                                                     \u001b[0m  \n",
       " ───────────────────────────────────────────────────────────────────────────────────────────────────────────────── \n"
      ]
     },
     "metadata": {},
     "output_type": "display_data"
    },
    {
     "data": {
      "text/html": [
       "<pre style=\"white-space:pre;overflow-x:auto;line-height:normal;font-family:Menlo,'DejaVu Sans Mono',consolas,'Courier New',monospace\"><span style=\"color: #800000; text-decoration-color: #800000; font-weight: bold\">Code execution failed at line 'result = query_duckdb(\"SELECT value FROM data WHERE feature='OCP' AND sample=3\")' </span>\n",
       "<span style=\"color: #800000; text-decoration-color: #800000; font-weight: bold\">due to: BinderException: Binder Error: Referenced column \"value\" not found in FROM clause!</span>\n",
       "<span style=\"color: #800000; text-decoration-color: #800000; font-weight: bold\">Candidate bindings: \"value_ca\", \"value_cv\", \"value_ocp\", \"sample\", \"feature\"</span>\n",
       "\n",
       "<span style=\"color: #800000; text-decoration-color: #800000; font-weight: bold\">LINE 1: SELECT value FROM data WHERE feature='OCP' AND sample=3</span>\n",
       "<span style=\"color: #800000; text-decoration-color: #800000; font-weight: bold\">               ^</span>\n",
       "</pre>\n"
      ],
      "text/plain": [
       "\u001b[1;31mCode execution failed at line 'result = query_duckdb(\"SELECT value FROM data WHERE feature='OCP' AND sample=3\")' \u001b[0m\n",
       "\u001b[1;31mdue to: BinderException: Binder Error: Referenced column \"value\" not found in FROM clause!\u001b[0m\n",
       "\u001b[1;31mCandidate bindings: \"value_ca\", \"value_cv\", \"value_ocp\", \"sample\", \"feature\"\u001b[0m\n",
       "\n",
       "\u001b[1;31mLINE 1: SELECT value FROM data WHERE feature='OCP' AND sample=3\u001b[0m\n",
       "\u001b[1;31m               ^\u001b[0m\n"
      ]
     },
     "metadata": {},
     "output_type": "display_data"
    },
    {
     "data": {
      "text/html": [
       "<pre style=\"white-space:pre;overflow-x:auto;line-height:normal;font-family:Menlo,'DejaVu Sans Mono',consolas,'Courier New',monospace\"><span style=\"color: #7f7f7f; text-decoration-color: #7f7f7f\">[Step 1: Duration 75.37 seconds| Input tokens: 2,048 | Output tokens: 51]</span>\n",
       "</pre>\n"
      ],
      "text/plain": [
       "\u001b[2m[Step 1: Duration 75.37 seconds| Input tokens: 2,048 | Output tokens: 51]\u001b[0m\n"
      ]
     },
     "metadata": {},
     "output_type": "display_data"
    },
    {
     "data": {
      "text/html": [
       "<pre style=\"white-space:pre;overflow-x:auto;line-height:normal;font-family:Menlo,'DejaVu Sans Mono',consolas,'Courier New',monospace\"><span style=\"color: #d4b702; text-decoration-color: #d4b702\">━━━━━━━━━━━━━━━━━━━━━━━━━━━━━━━━━━━━━━━━━━━━━━━━━━━━━ </span><span style=\"font-weight: bold\">Step 2</span><span style=\"color: #d4b702; text-decoration-color: #d4b702\"> ━━━━━━━━━━━━━━━━━━━━━━━━━━━━━━━━━━━━━━━━━━━━━━━━━━━━━━</span>\n",
       "</pre>\n"
      ],
      "text/plain": [
       "\u001b[38;2;212;183;2m━━━━━━━━━━━━━━━━━━━━━━━━━━━━━━━━━━━━━━━━━━━━━━━━━━━━━ \u001b[0m\u001b[1mStep 2\u001b[0m\u001b[38;2;212;183;2m ━━━━━━━━━━━━━━━━━━━━━━━━━━━━━━━━━━━━━━━━━━━━━━━━━━━━━━\u001b[0m\n"
      ]
     },
     "metadata": {},
     "output_type": "display_data"
    },
    {
     "data": {
      "text/html": [
       "<pre style=\"white-space:pre;overflow-x:auto;line-height:normal;font-family:Menlo,'DejaVu Sans Mono',consolas,'Courier New',monospace\"> ─ <span style=\"font-weight: bold\">Executing parsed code:</span> ──────────────────────────────────────────────────────────────────────────────────────── \n",
       "  <span style=\"color: #f8f8f2; text-decoration-color: #f8f8f2; background-color: #272822\">result </span><span style=\"color: #ff4689; text-decoration-color: #ff4689; background-color: #272822\">=</span><span style=\"color: #f8f8f2; text-decoration-color: #f8f8f2; background-color: #272822\"> query_duckdb(</span><span style=\"color: #e6db74; text-decoration-color: #e6db74; background-color: #272822\">\"SELECT ocpy.value FROM data AS ocpy WHERE ocpy.feature='OCP' AND ocpy.sample=3\"</span><span style=\"color: #f8f8f2; text-decoration-color: #f8f8f2; background-color: #272822\">)</span><span style=\"background-color: #272822\">        </span>  \n",
       "  <span style=\"color: #f8f8f2; text-decoration-color: #f8f8f2; background-color: #272822\">final_answer(result[</span><span style=\"color: #ae81ff; text-decoration-color: #ae81ff; background-color: #272822\">0</span><span style=\"color: #f8f8f2; text-decoration-color: #f8f8f2; background-color: #272822\">][</span><span style=\"color: #ae81ff; text-decoration-color: #ae81ff; background-color: #272822\">0</span><span style=\"color: #f8f8f2; text-decoration-color: #f8f8f2; background-color: #272822\">])</span><span style=\"background-color: #272822\">                                                                                     </span>  \n",
       " ───────────────────────────────────────────────────────────────────────────────────────────────────────────────── \n",
       "</pre>\n"
      ],
      "text/plain": [
       " ─ \u001b[1mExecuting parsed code:\u001b[0m ──────────────────────────────────────────────────────────────────────────────────────── \n",
       "  \u001b[38;2;248;248;242;48;2;39;40;34mresult\u001b[0m\u001b[38;2;248;248;242;48;2;39;40;34m \u001b[0m\u001b[38;2;255;70;137;48;2;39;40;34m=\u001b[0m\u001b[38;2;248;248;242;48;2;39;40;34m \u001b[0m\u001b[38;2;248;248;242;48;2;39;40;34mquery_duckdb\u001b[0m\u001b[38;2;248;248;242;48;2;39;40;34m(\u001b[0m\u001b[38;2;230;219;116;48;2;39;40;34m\"\u001b[0m\u001b[38;2;230;219;116;48;2;39;40;34mSELECT ocpy.value FROM data AS ocpy WHERE ocpy.feature=\u001b[0m\u001b[38;2;230;219;116;48;2;39;40;34m'\u001b[0m\u001b[38;2;230;219;116;48;2;39;40;34mOCP\u001b[0m\u001b[38;2;230;219;116;48;2;39;40;34m'\u001b[0m\u001b[38;2;230;219;116;48;2;39;40;34m AND ocpy.sample=3\u001b[0m\u001b[38;2;230;219;116;48;2;39;40;34m\"\u001b[0m\u001b[38;2;248;248;242;48;2;39;40;34m)\u001b[0m\u001b[48;2;39;40;34m        \u001b[0m  \n",
       "  \u001b[38;2;248;248;242;48;2;39;40;34mfinal_answer\u001b[0m\u001b[38;2;248;248;242;48;2;39;40;34m(\u001b[0m\u001b[38;2;248;248;242;48;2;39;40;34mresult\u001b[0m\u001b[38;2;248;248;242;48;2;39;40;34m[\u001b[0m\u001b[38;2;174;129;255;48;2;39;40;34m0\u001b[0m\u001b[38;2;248;248;242;48;2;39;40;34m]\u001b[0m\u001b[38;2;248;248;242;48;2;39;40;34m[\u001b[0m\u001b[38;2;174;129;255;48;2;39;40;34m0\u001b[0m\u001b[38;2;248;248;242;48;2;39;40;34m]\u001b[0m\u001b[38;2;248;248;242;48;2;39;40;34m)\u001b[0m\u001b[48;2;39;40;34m                                                                                     \u001b[0m  \n",
       " ───────────────────────────────────────────────────────────────────────────────────────────────────────────────── \n"
      ]
     },
     "metadata": {},
     "output_type": "display_data"
    },
    {
     "data": {
      "text/html": [
       "<pre style=\"white-space:pre;overflow-x:auto;line-height:normal;font-family:Menlo,'DejaVu Sans Mono',consolas,'Courier New',monospace\"><span style=\"color: #800000; text-decoration-color: #800000; font-weight: bold\">Code execution failed at line 'result = query_duckdb(\"SELECT ocpy.value FROM data AS ocpy WHERE ocpy.feature='OCP' </span>\n",
       "<span style=\"color: #800000; text-decoration-color: #800000; font-weight: bold\">AND ocpy.sample=3\")' due to: BinderException: Binder Error: Table \"ocpy\" does not have a column named \"value\"</span>\n",
       "\n",
       "<span style=\"color: #800000; text-decoration-color: #800000; font-weight: bold\">Candidate bindings: : \"value_ca\", \"value_cv\", \"value_ocp\"</span>\n",
       "\n",
       "<span style=\"color: #800000; text-decoration-color: #800000; font-weight: bold\">LINE 1: SELECT ocpy.value FROM data AS ocpy WHERE ocpy.feature='OCP' AND...</span>\n",
       "<span style=\"color: #800000; text-decoration-color: #800000; font-weight: bold\">               ^</span>\n",
       "</pre>\n"
      ],
      "text/plain": [
       "\u001b[1;31mCode execution failed at line 'result = query_duckdb(\"SELECT ocpy.value FROM data AS ocpy WHERE ocpy.feature='OCP' \u001b[0m\n",
       "\u001b[1;31mAND ocpy.sample=3\")' due to: BinderException: Binder Error: Table \"ocpy\" does not have a column named \"value\"\u001b[0m\n",
       "\n",
       "\u001b[1;31mCandidate bindings: : \"value_ca\", \"value_cv\", \"value_ocp\"\u001b[0m\n",
       "\n",
       "\u001b[1;31mLINE 1: SELECT ocpy.value FROM data AS ocpy WHERE ocpy.feature='OCP' AND...\u001b[0m\n",
       "\u001b[1;31m               ^\u001b[0m\n"
      ]
     },
     "metadata": {},
     "output_type": "display_data"
    },
    {
     "data": {
      "text/html": [
       "<pre style=\"white-space:pre;overflow-x:auto;line-height:normal;font-family:Menlo,'DejaVu Sans Mono',consolas,'Courier New',monospace\"><span style=\"color: #7f7f7f; text-decoration-color: #7f7f7f\">[Step 2: Duration 74.71 seconds| Input tokens: 4,096 | Output tokens: 111]</span>\n",
       "</pre>\n"
      ],
      "text/plain": [
       "\u001b[2m[Step 2: Duration 74.71 seconds| Input tokens: 4,096 | Output tokens: 111]\u001b[0m\n"
      ]
     },
     "metadata": {},
     "output_type": "display_data"
    },
    {
     "data": {
      "text/html": [
       "<pre style=\"white-space:pre;overflow-x:auto;line-height:normal;font-family:Menlo,'DejaVu Sans Mono',consolas,'Courier New',monospace\"><span style=\"color: #d4b702; text-decoration-color: #d4b702\">━━━━━━━━━━━━━━━━━━━━━━━━━━━━━━━━━━━━━━━━━━━━━━━━━━━━━ </span><span style=\"font-weight: bold\">Step 3</span><span style=\"color: #d4b702; text-decoration-color: #d4b702\"> ━━━━━━━━━━━━━━━━━━━━━━━━━━━━━━━━━━━━━━━━━━━━━━━━━━━━━━</span>\n",
       "</pre>\n"
      ],
      "text/plain": [
       "\u001b[38;2;212;183;2m━━━━━━━━━━━━━━━━━━━━━━━━━━━━━━━━━━━━━━━━━━━━━━━━━━━━━ \u001b[0m\u001b[1mStep 3\u001b[0m\u001b[38;2;212;183;2m ━━━━━━━━━━━━━━━━━━━━━━━━━━━━━━━━━━━━━━━━━━━━━━━━━━━━━━\u001b[0m\n"
      ]
     },
     "metadata": {},
     "output_type": "display_data"
    },
    {
     "data": {
      "text/html": [
       "<pre style=\"white-space:pre;overflow-x:auto;line-height:normal;font-family:Menlo,'DejaVu Sans Mono',consolas,'Courier New',monospace\"> ─ <span style=\"font-weight: bold\">Executing parsed code:</span> ──────────────────────────────────────────────────────────────────────────────────────── \n",
       "  <span style=\"color: #f8f8f2; text-decoration-color: #f8f8f2; background-color: #272822\">result </span><span style=\"color: #ff4689; text-decoration-color: #ff4689; background-color: #272822\">=</span><span style=\"color: #f8f8f2; text-decoration-color: #f8f8f2; background-color: #272822\"> query_duckdb(</span><span style=\"color: #e6db74; text-decoration-color: #e6db74; background-color: #272822\">\"SELECT value_ocp FROM data WHERE feature='OCP' AND sample=3\"</span><span style=\"color: #f8f8f2; text-decoration-color: #f8f8f2; background-color: #272822\">)</span><span style=\"background-color: #272822\">                           </span>  \n",
       "  <span style=\"color: #f8f8f2; text-decoration-color: #f8f8f2; background-color: #272822\">final_answer(result[</span><span style=\"color: #ae81ff; text-decoration-color: #ae81ff; background-color: #272822\">0</span><span style=\"color: #f8f8f2; text-decoration-color: #f8f8f2; background-color: #272822\">][</span><span style=\"color: #ae81ff; text-decoration-color: #ae81ff; background-color: #272822\">0</span><span style=\"color: #f8f8f2; text-decoration-color: #f8f8f2; background-color: #272822\">])</span><span style=\"background-color: #272822\">                                                                                     </span>  \n",
       " ───────────────────────────────────────────────────────────────────────────────────────────────────────────────── \n",
       "</pre>\n"
      ],
      "text/plain": [
       " ─ \u001b[1mExecuting parsed code:\u001b[0m ──────────────────────────────────────────────────────────────────────────────────────── \n",
       "  \u001b[38;2;248;248;242;48;2;39;40;34mresult\u001b[0m\u001b[38;2;248;248;242;48;2;39;40;34m \u001b[0m\u001b[38;2;255;70;137;48;2;39;40;34m=\u001b[0m\u001b[38;2;248;248;242;48;2;39;40;34m \u001b[0m\u001b[38;2;248;248;242;48;2;39;40;34mquery_duckdb\u001b[0m\u001b[38;2;248;248;242;48;2;39;40;34m(\u001b[0m\u001b[38;2;230;219;116;48;2;39;40;34m\"\u001b[0m\u001b[38;2;230;219;116;48;2;39;40;34mSELECT value_ocp FROM data WHERE feature=\u001b[0m\u001b[38;2;230;219;116;48;2;39;40;34m'\u001b[0m\u001b[38;2;230;219;116;48;2;39;40;34mOCP\u001b[0m\u001b[38;2;230;219;116;48;2;39;40;34m'\u001b[0m\u001b[38;2;230;219;116;48;2;39;40;34m AND sample=3\u001b[0m\u001b[38;2;230;219;116;48;2;39;40;34m\"\u001b[0m\u001b[38;2;248;248;242;48;2;39;40;34m)\u001b[0m\u001b[48;2;39;40;34m                           \u001b[0m  \n",
       "  \u001b[38;2;248;248;242;48;2;39;40;34mfinal_answer\u001b[0m\u001b[38;2;248;248;242;48;2;39;40;34m(\u001b[0m\u001b[38;2;248;248;242;48;2;39;40;34mresult\u001b[0m\u001b[38;2;248;248;242;48;2;39;40;34m[\u001b[0m\u001b[38;2;174;129;255;48;2;39;40;34m0\u001b[0m\u001b[38;2;248;248;242;48;2;39;40;34m]\u001b[0m\u001b[38;2;248;248;242;48;2;39;40;34m[\u001b[0m\u001b[38;2;174;129;255;48;2;39;40;34m0\u001b[0m\u001b[38;2;248;248;242;48;2;39;40;34m]\u001b[0m\u001b[38;2;248;248;242;48;2;39;40;34m)\u001b[0m\u001b[48;2;39;40;34m                                                                                     \u001b[0m  \n",
       " ───────────────────────────────────────────────────────────────────────────────────────────────────────────────── \n"
      ]
     },
     "metadata": {},
     "output_type": "display_data"
    },
    {
     "data": {
      "text/html": [
       "<pre style=\"white-space:pre;overflow-x:auto;line-height:normal;font-family:Menlo,'DejaVu Sans Mono',consolas,'Courier New',monospace\"></pre>\n"
      ],
      "text/plain": []
     },
     "metadata": {},
     "output_type": "display_data"
    },
    {
     "data": {
      "text/html": [
       "<pre style=\"white-space:pre;overflow-x:auto;line-height:normal;font-family:Menlo,'DejaVu Sans Mono',consolas,'Courier New',monospace\"><span style=\"color: #d4b702; text-decoration-color: #d4b702; font-weight: bold\">Final answer: 0.1564968</span>\n",
       "</pre>\n"
      ],
      "text/plain": [
       "\u001b[1;38;2;212;183;2mFinal answer: 0.1564968\u001b[0m\n"
      ]
     },
     "metadata": {},
     "output_type": "display_data"
    },
    {
     "data": {
      "text/html": [
       "<pre style=\"white-space:pre;overflow-x:auto;line-height:normal;font-family:Menlo,'DejaVu Sans Mono',consolas,'Courier New',monospace\"><span style=\"color: #7f7f7f; text-decoration-color: #7f7f7f\">[Step 3: Duration 73.76 seconds| Input tokens: 6,144 | Output tokens: 164]</span>\n",
       "</pre>\n"
      ],
      "text/plain": [
       "\u001b[2m[Step 3: Duration 73.76 seconds| Input tokens: 6,144 | Output tokens: 164]\u001b[0m\n"
      ]
     },
     "metadata": {},
     "output_type": "display_data"
    },
    {
     "name": "stdout",
     "output_type": "stream",
     "text": [
      "Keyboard interruption in main thread... closing server.\n",
      "Killing tunnel 127.0.0.1:7860 <> None\n"
     ]
    }
   ],
   "source": [
    "GradioUI(agent).launch()"
   ]
  }
 ],
 "metadata": {
  "kernelspec": {
   "display_name": "Python 3",
   "language": "python",
   "name": "python3"
  },
  "language_info": {
   "codemirror_mode": {
    "name": "ipython",
    "version": 3
   },
   "file_extension": ".py",
   "mimetype": "text/x-python",
   "name": "python",
   "nbconvert_exporter": "python",
   "pygments_lexer": "ipython3",
   "version": "3.10.14"
  }
 },
 "nbformat": 4,
 "nbformat_minor": 5
}
