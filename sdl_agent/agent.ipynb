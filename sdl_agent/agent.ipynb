{
 "cells": [
  {
   "cell_type": "code",
   "execution_count": null,
   "id": "bb53c67d",
   "metadata": {},
   "outputs": [],
   "source": [
    "from smolagents import CodeAgent, LiteLLMModel"
   ]
  },
  {
   "cell_type": "code",
   "execution_count": null,
   "id": "a204aba1",
   "metadata": {},
   "outputs": [],
   "source": [
    "model = LiteLLMModel(\n",
    "    model_id=\"ollama/qwen2.5:7b-instruct\",\n",
    "    api_base=\"http://localhost:11434\",\n",
    "    system_prompt=\"You are a terse Python coding assistant. Use tools precisely.\"\n",
    ")"
   ]
  },
  {
   "cell_type": "code",
   "execution_count": null,
   "id": "173ec20e-4f5c-4224-9839-fe6eaccf38e7",
   "metadata": {},
   "outputs": [],
   "source": [
    "agent = CodeAgent(\n",
    "    model=model,\n",
    "    tools=[],\n",
    "    additional_authorized_imports=[\"duckdb\", \"pandas\", \"csv\"],\n",
    ")"
   ]
  },
  {
   "cell_type": "code",
   "execution_count": null,
   "id": "b2f999d5",
   "metadata": {},
   "outputs": [],
   "source": [
    "prompt = \"\"\"\n",
    "You are a data analyst. Use duckdb to analyze the following CSV data.\n",
    "Your job is to answer the questions asked by the user about the given dataset.\n",
    "Only answer to that question and don't try to do any other analysis and don't try to explain any other thing.\n",
    "\n",
    "The file is located in the current working directory.\n",
    "\n",
    "## Data dictionary\n",
    "\n",
    "1. ts: timestamp\n",
    "2. step: step type, measurement or interraction\n",
    "3. feature: feature name of the measurement, OCP, CA, CV\n",
    "4. sample: number of the measured sample\n",
    "5. value_ocp: result value of the OCP measurement\n",
    "6. value_ca: result value of the CA measurement\n",
    "7. value_cv: result value of the CV measurement\n",
    "8. t_start: start time of the step\n",
    "9. t_end: end time of the step\n",
    "10. duration_s: duration of the step in seconds\n",
    "11. metrics: metrics of the step, e.g. current, voltage, capacity, energy\n",
    "12. meta: meta information of the step, e.g. cycle index, step index, sample index\n",
    "\n",
    "* You can use duckdb to load, query and analyze the CSV data.\n",
    "\n",
    "FEW SHOT EXAMPLES\n",
    "1. How many rows are in the CSV file?\n",
    "ANSWER: There are 1000 rows in the CSV file.\n",
    "2. What is the average OCP value for all measurements?\n",
    "ANSWER: The average OCP value for all measurements is 0.8V\n",
    "3. What is the maximum CA value for all measurements?\n",
    "ANSWER: The maximum CA value for all measurements is 1.2A\n",
    "\"\"\"\n"
   ]
  },
  {
   "cell_type": "code",
   "execution_count": null,
   "id": "990316d3-13d2-472f-8bf3-4a391d1eba90",
   "metadata": {},
   "outputs": [],
   "source": [
    "question = \"\"\"What is the average value_ocp for each feature in the dataset?\"\"\"\n",
    "file = r\"C:\\Users\\chekim\\Workspace\\llm_robotic_control\\experiment_logs\\20250924104104.csv\"\n",
    "\n",
    "response = agent.run(\n",
    "    prompt + \"\\n\" + question, \n",
    "    additional_args = dict(source_file=file) \n",
    ")\n",
    "\n",
    "print(response)"
   ]
  }
 ],
 "metadata": {
  "kernelspec": {
   "display_name": "Python 3",
   "language": "python",
   "name": "python3"
  },
  "language_info": {
   "codemirror_mode": {
    "name": "ipython",
    "version": 3
   },
   "file_extension": ".py",
   "mimetype": "text/x-python",
   "name": "python",
   "nbconvert_exporter": "python",
   "pygments_lexer": "ipython3",
   "version": "3.10.14"
  }
 },
 "nbformat": 4,
 "nbformat_minor": 5
}
